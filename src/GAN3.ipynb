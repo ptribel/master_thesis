{
 "cells": [
  {
   "cell_type": "markdown",
   "metadata": {},
   "source": [
    "# Convolutionnal Generative Adversarial Networks\n",
    "## Initialisation and dataset preparation\n",
    "\n",
    "First, let us import the required libraries."
   ]
  },
  {
   "cell_type": "code",
   "execution_count": 104,
   "metadata": {},
   "outputs": [],
   "source": [
    "import tensorflow as tf\n",
    "import numpy as np\n",
    "from scipy.io import wavfile\n",
    "from scipy.signal import spectrogram, stft, istft\n",
    "import matplotlib.pyplot as plt\n",
    "import librosa\n",
    "import librosa.display\n",
    "from misceallaneous import getWavFileAsNpArray, displaySpectrogram\n",
    "from IPython.display import Audio"
   ]
  },
  {
   "cell_type": "markdown",
   "metadata": {},
   "source": [
    "Then, let us include the dataset.\n",
    "\n",
    "The dataset is made of two files: `clean/p1.wav`and `white/p1.wav` which are converted into arrays of `int32` and then split into segments of `samples_length`.\n",
    "\n",
    "The goal of the CGAN here is to predict the clean sample, when fed with the white one."
   ]
  },
  {
   "cell_type": "code",
   "execution_count": 139,
   "metadata": {},
   "outputs": [],
   "source": [
    "samplerate = 12000\n",
    "nperseg = 1024\n",
    "\n",
    "clean = getWavFileAsNpArray(\"../dataset_2/clean/p1.wav\")\n",
    "white = getWavFileAsNpArray(\"../dataset_2/white/p1.wav\")\n",
    "clean = np.array(clean, dtype=\"float32\")\n",
    "white = np.array(white, dtype=\"float32\")\n",
    "\n",
    "clean_dataset = []\n",
    "white_dataset = []\n",
    "\n",
    "samples_length = nperseg*2\n",
    "\n",
    "for i in range(0, clean.shape[0]-samples_length, samples_length):\n",
    "    clean_dataset.append(clean[i:i+samples_length])\n",
    "    white_dataset.append(white[i:i+samples_length])\n",
    "clean_dataset = np.array(clean_dataset)\n",
    "white_dataset = np.array(white_dataset)"
   ]
  },
  {
   "cell_type": "code",
   "execution_count": 140,
   "metadata": {},
   "outputs": [
    {
     "name": "stdout",
     "output_type": "stream",
     "text": [
      "(5329, 5, 513) (5329, 5, 513) (5329, 5, 513) (5329, 5, 513)\n"
     ]
    }
   ],
   "source": [
    "stft_clean_dataset_real = []\n",
    "stft_clean_dataset_imag = []\n",
    "stft_white_dataset_real = []\n",
    "stft_white_dataset_imag = []\n",
    "\n",
    "for i in clean_dataset:\n",
    "    c, t, inp = stft(i, fs=samplerate, nperseg=nperseg)\n",
    "    stft_clean_dataset_real.append(np.real(inp).T)\n",
    "    stft_clean_dataset_imag.append(np.imag(inp).T)\n",
    "    \n",
    "for i in white_dataset:\n",
    "    c, t, inp = stft(i, fs=samplerate, nperseg=nperseg)\n",
    "    stft_white_dataset_real.append(np.real(inp).T)\n",
    "    stft_white_dataset_imag.append(np.imag(inp).T)\n",
    "\n",
    "max_clean = 1.#np.max(np.abs(np.array(stft_clean_dataset_real)))\n",
    "max_white = 1.#np.max(np.abs(np.array(stft_white_dataset_real)))\n",
    "\n",
    "stft_clean_dataset_real = np.array(stft_clean_dataset_real)/max_clean\n",
    "stft_clean_dataset_imag = np.array(stft_clean_dataset_imag)\n",
    "stft_white_dataset_real = np.array(stft_white_dataset_real)/max_white\n",
    "stft_white_dataset_imag = np.array(stft_white_dataset_imag)\n",
    "print(stft_clean_dataset_real.shape, stft_clean_dataset_imag.shape, stft_white_dataset_real.shape, stft_white_dataset_imag.shape)"
   ]
  },
  {
   "cell_type": "code",
   "execution_count": 144,
   "metadata": {},
   "outputs": [],
   "source": [
    "spectrogram_clean_dataset = []\n",
    "spectrogram_white_dataset = []\n",
    "\n",
    "for sample in stft_clean_dataset_real:\n",
    "    spectrogram_clean_dataset.append(librosa.amplitude_to_db(sample, ref=np.max))\n",
    "for sample in stft_white_dataset_real:\n",
    "    spectrogram_white_dataset.append(librosa.amplitude_to_db(sample, ref=np.max))\n",
    "\n",
    "spectrogram_clean_dataset = np.array(spectrogram_clean_dataset)\n",
    "spectrogram_white_dataset = np.array(spectrogram_white_dataset)"
   ]
  },
  {
   "cell_type": "code",
   "execution_count": 145,
   "metadata": {},
   "outputs": [],
   "source": [
    "data_shape = (spectrogram_white_dataset.shape[1:])"
   ]
  },
  {
   "cell_type": "code",
   "execution_count": 146,
   "metadata": {},
   "outputs": [
    {
     "data": {
      "text/plain": [
       "(5, 513)"
      ]
     },
     "execution_count": 146,
     "metadata": {},
     "output_type": "execute_result"
    }
   ],
   "source": [
    "data_shape"
   ]
  },
  {
   "cell_type": "code",
   "execution_count": 147,
   "metadata": {},
   "outputs": [
    {
     "name": "stdout",
     "output_type": "stream",
     "text": [
      "80.00001 80.00001\n"
     ]
    }
   ],
   "source": [
    "print(np.max(np.abs(np.array(spectrogram_clean_dataset))), np.max(np.abs(np.array(spectrogram_white_dataset))))"
   ]
  },
  {
   "cell_type": "code",
   "execution_count": 148,
   "metadata": {},
   "outputs": [],
   "source": [
    "def view_output(dataset, gan, p):\n",
    "    outputs = []\n",
    "    for i in range(10):\n",
    "        y = np.reshape(dataset[i, :, :], (-1, dataset.shape[1], dataset.shape[2]))\n",
    "        t, y1 = istft(np.reshape((gan.g.predict(y)*max_clean).T, data_shape[::-1])+np.imag(dataset[i]).T)\n",
    "        y2 = np.reshape(y1.T, (dataset.shape[1],))\n",
    "        outputs.append(y2)\n",
    "    b = np.concatenate(outputs)\n",
    "    c, t, bxx = stft(b, fs=samplerate, nperseg=nperseg)\n",
    "    displaySpectrogram(bxx)\n",
    "    plt.savefig(str(p)+\".png\", format='png')"
   ]
  },
  {
   "cell_type": "code",
   "execution_count": 127,
   "metadata": {},
   "outputs": [],
   "source": [
    "def hear_outputs(dataset, gan, p):\n",
    "    outputs = []\n",
    "    for i in range(10):\n",
    "        y = np.reshape(stft_white_dataset_real[i, :, :], (-1, dataset.shape[1], dataset.shape[2]))\n",
    "        t, y1 = istft(np.reshape((gan.g.predict(y)*max_clean), data_shape[::-1])+np.imag(dataset[i]).T)\n",
    "        y2 = np.reshape(y1.T, (dataset.shape[1],))\n",
    "        outputs.append(y2)\n",
    "    b = np.concatenate(outputs)\n",
    "    return Audio(b, rate=samplerate)"
   ]
  },
  {
   "cell_type": "markdown",
   "metadata": {},
   "source": [
    "# CGAN Model\n",
    "The main idea of a GAN model is to create two networks who play an adversarial game:\n",
    "- A Generator, whose goal is to produce the most realistic samples possible to fool the Discriminator\n",
    "- A Discriminator, whose goal is to correctly guess if its input is a real sample from the clean dataset or an output created by the Generator\n",
    "\n",
    "A first model is saved in `'save2/gan_without_add'`. It does not have any add layer. It has been train on 3104 steps on 5000 samples of size 2048, visualizable in the folder `save2` gif.\n",
    "\n",
    "A first model is saved in `'save2/gan_with_add'`. It does have an add layer. It has been train on 2475 steps on 10000 samples of size 1024, visualizable in the folder `save3` gif."
   ]
  },
  {
   "cell_type": "markdown",
   "metadata": {},
   "source": [
    "### Discriminator\n",
    "\n",
    "The discriminator here uses a layer to process the Short-Time Fourier Transform (https://en.wikipedia.org/wiki/Short-time_Fourier_transform) before reducing the problem dimension to one single boolean prediction layer.\n",
    "\n",
    "Interestingly, adding a Dropout layer on the input seems to prevent the generator to adapt itself to the little flaws of detection (which then only produces noise unrecognized by the discriminator)."
   ]
  },
  {
   "cell_type": "code",
   "execution_count": 111,
   "metadata": {},
   "outputs": [],
   "source": [
    "def discriminator(input_shape):\n",
    "    inputs = tf.keras.Input(shape=(input_shape[1], input_shape[2]))\n",
    "    x = tf.keras.layers.Dropout(0.3)(inputs)\n",
    "    #x3 = tf.keras.layers.Dense(512, activation=\"tanh\")(x)\n",
    "    x4 = tf.keras.layers.Dense(256, activation=\"tanh\")(x)\n",
    "    x41 = tf.keras.layers.Dropout(0.3)(x4)\n",
    "    x5 = tf.keras.layers.Dense(128, activation=\"tanh\")(x)\n",
    "    x6 = tf.keras.layers.Dense(1, activation=\"tanh\")(x5)\n",
    "    x7 = tf.keras.layers.Flatten()(x6)\n",
    "    outputs = tf.keras.layers.Dense(1, activation=\"sigmoid\")(x7)\n",
    "    model = tf.keras.Model(inputs=inputs, outputs=outputs, name=\"discriminator\")\n",
    "    model.summary()\n",
    "    model.compile(optimizer= 'adam', loss='mse', metrics=['accuracy'])\n",
    "    return model"
   ]
  },
  {
   "cell_type": "markdown",
   "metadata": {},
   "source": [
    "## Generator\n",
    "The generator itself is a Convolutionnal Autoencoder.\n",
    "\n",
    "Its input size and output size are both the size of the stft array."
   ]
  },
  {
   "cell_type": "code",
   "execution_count": 112,
   "metadata": {},
   "outputs": [],
   "source": [
    "def generator(sizes):\n",
    "    inputs = tf.keras.Input(shape=(sizes[1], sizes[2]))\n",
    "    x = tf.keras.layers.Dropout(0.3)(inputs)\n",
    "    x1 = tf.keras.layers.Dense(10, activation='tanh')(x)\n",
    "    x11 = tf.keras.layers.Dropout(0.3)(x1)\n",
    "    x4 = tf.keras.layers.Dense(sizes[2], activation='tanh')(x11)\n",
    "    x41 = tf.keras.layers.Dropout(0.3)(x4)\n",
    "    x5 = tf.keras.layers.Add()([inputs, x41])\n",
    "    outputs = tf.keras.layers.Dense(sizes[2], activation='linear')(x5)\n",
    "    \n",
    "    model = tf.keras.Model(inputs=inputs, outputs=outputs, name=\"autoencoder\")\n",
    "    model.summary()\n",
    "    model.compile(optimizer='adam', loss='mse', metrics=['accuracy'])\n",
    "    return model"
   ]
  },
  {
   "cell_type": "code",
   "execution_count": 113,
   "metadata": {
    "scrolled": false
   },
   "outputs": [],
   "source": [
    "def evaluate_generator(g, inputs, outputs, size=100):\n",
    "    res = 0\n",
    "    s = min(size, inputs.shape[0])\n",
    "    for i in range(s):\n",
    "        error = (g.predict(np.reshape(inputs[i], (-1, inputs[i].shape[0], inputs[i].shape[1])))-outputs[i])**2\n",
    "        res += np.sum(error)\n",
    "    return res/(s)"
   ]
  },
  {
   "cell_type": "markdown",
   "metadata": {},
   "source": [
    "## Building the GAN"
   ]
  },
  {
   "cell_type": "code",
   "execution_count": 114,
   "metadata": {},
   "outputs": [],
   "source": [
    "def get_generator_outputs(white, train_size, g, nperseg, clean):\n",
    "    steps = train_size//20\n",
    "    rng = np.random.default_rng()\n",
    "    g_outputs = []\n",
    "    batch = rng.choice(white, train_size)\n",
    "    for i in range(train_size):\n",
    "        if i%steps == 0:\n",
    "            print(\"=\", end='')\n",
    "        t = np.reshape(white[i, :, :], (-1, white.shape[1], white.shape[2]))\n",
    "        m = g.predict(t)\n",
    "        g_outputs.append(m)\n",
    "    print()\n",
    "    g_outputs = np.reshape(np.array(g_outputs), (train_size,  white.shape[1], white.shape[2]))\n",
    "    input_data = np.concatenate((g_outputs, clean[:train_size,]))\n",
    "    output_data = np.concatenate((np.zeros((train_size,)), np.ones((train_size,))))\n",
    "    return input_data, output_data"
   ]
  },
  {
   "cell_type": "code",
   "execution_count": 115,
   "metadata": {},
   "outputs": [],
   "source": [
    "class GAN:\n",
    "    def __init__(self, size, g, d):\n",
    "        self.g = g\n",
    "        self.d = d\n",
    "        self.size = size\n",
    "        self.build()\n",
    "        \n",
    "    def build(self):\n",
    "        self.z = self.g.inputs\n",
    "        self.image = self.g(self.z)\n",
    "        self.valid = self.d(self.image)\n",
    "        self.combined_network = tf.keras.Model(self.z, self.valid)\n",
    "        self.compile()\n",
    "        \n",
    "    def block_discriminator(self):\n",
    "        self.d.trainable = False\n",
    "        self.g.trainable = True\n",
    "        self.build()\n",
    "        \n",
    "    def block_generator(self):\n",
    "        self.g.trainable = False\n",
    "        self.d.trainable = True\n",
    "        self.build()\n",
    "        \n",
    "    def compile(self):\n",
    "        self.combined_network.compile(optimizer='adam', loss='mse', metrics=['accuracy'])"
   ]
  },
  {
   "cell_type": "code",
   "execution_count": 116,
   "metadata": {},
   "outputs": [
    {
     "name": "stdout",
     "output_type": "stream",
     "text": [
      "Model: \"autoencoder\"\n",
      "__________________________________________________________________________________________________\n",
      "Layer (type)                    Output Shape         Param #     Connected to                     \n",
      "==================================================================================================\n",
      "input_17 (InputLayer)           [(None, 128, 5)]     0                                            \n",
      "__________________________________________________________________________________________________\n",
      "dropout_39 (Dropout)            (None, 128, 5)       0           input_17[0][0]                   \n",
      "__________________________________________________________________________________________________\n",
      "dense_56 (Dense)                (None, 128, 10)      60          dropout_39[0][0]                 \n",
      "__________________________________________________________________________________________________\n",
      "dropout_40 (Dropout)            (None, 128, 10)      0           dense_56[0][0]                   \n",
      "__________________________________________________________________________________________________\n",
      "dense_57 (Dense)                (None, 128, 5)       55          dropout_40[0][0]                 \n",
      "__________________________________________________________________________________________________\n",
      "dropout_41 (Dropout)            (None, 128, 5)       0           dense_57[0][0]                   \n",
      "__________________________________________________________________________________________________\n",
      "add_8 (Add)                     (None, 128, 5)       0           input_17[0][0]                   \n",
      "                                                                 dropout_41[0][0]                 \n",
      "__________________________________________________________________________________________________\n",
      "dense_58 (Dense)                (None, 128, 5)       30          add_8[0][0]                      \n",
      "==================================================================================================\n",
      "Total params: 145\n",
      "Trainable params: 145\n",
      "Non-trainable params: 0\n",
      "__________________________________________________________________________________________________\n",
      "Model: \"discriminator\"\n",
      "_________________________________________________________________\n",
      "Layer (type)                 Output Shape              Param #   \n",
      "=================================================================\n",
      "input_18 (InputLayer)        [(None, 128, 5)]          0         \n",
      "_________________________________________________________________\n",
      "dropout_42 (Dropout)         (None, 128, 5)            0         \n",
      "_________________________________________________________________\n",
      "dense_60 (Dense)             (None, 128, 128)          768       \n",
      "_________________________________________________________________\n",
      "dense_61 (Dense)             (None, 128, 1)            129       \n",
      "_________________________________________________________________\n",
      "flatten_8 (Flatten)          (None, 128)               0         \n",
      "_________________________________________________________________\n",
      "dense_62 (Dense)             (None, 1)                 129       \n",
      "=================================================================\n",
      "Total params: 1,026\n",
      "Trainable params: 1,026\n",
      "Non-trainable params: 0\n",
      "_________________________________________________________________\n"
     ]
    }
   ],
   "source": [
    "g = generator(spectrogram_white_dataset.shape)\n",
    "d = discriminator(spectrogram_white_dataset.shape)\n",
    "gan = GAN(spectrogram_white_dataset.shape, g, d)"
   ]
  },
  {
   "cell_type": "code",
   "execution_count": 118,
   "metadata": {},
   "outputs": [],
   "source": [
    "def train_on_batch(d, i, o, validation_split=0, batch_size=16, verbose=True):\n",
    "    history = d.fit(i, o, batch_size=batch_size, validation_split=validation_split, verbose=verbose)\n",
    "    return np.mean(history.history['accuracy'])"
   ]
  },
  {
   "cell_type": "code",
   "execution_count": 128,
   "metadata": {},
   "outputs": [],
   "source": [
    "discriminator_train_size = 300#(spectrogram_white_dataset.shape[0])\n",
    "generator_train_size = 300#spectrogram_white_dataset.shape[0]"
   ]
  },
  {
   "cell_type": "markdown",
   "metadata": {},
   "source": [
    "### Pretraining the discriminator"
   ]
  },
  {
   "cell_type": "markdown",
   "metadata": {
    "scrolled": true
   },
   "source": [
    "d_accuracy = 0\n",
    "while d_accuracy < 0.5:\n",
    "    d_accuracy = train_on_batch(gan.d, np.concatenate((stft_white_dataset_real[:train_size], stft_clean_dataset_real[:train_size])), np.concatenate((np.zeros(train_size), np.ones(train_size))), verbose=True)"
   ]
  },
  {
   "cell_type": "code",
   "execution_count": 129,
   "metadata": {},
   "outputs": [],
   "source": [
    "p = 1\n",
    "q = 1"
   ]
  },
  {
   "cell_type": "code",
   "execution_count": 138,
   "metadata": {
    "scrolled": false
   },
   "outputs": [
    {
     "name": "stdout",
     "output_type": "stream",
     "text": [
      "Step 0\n",
      "====================\n",
      "Training the discriminator\n",
      "38/38 [==============================] - 0s 2ms/step - loss: 2.9728e-05 - accuracy: 1.0000\n",
      "Training the generator\n",
      "75/75 [==============================] - 0s 1ms/step - loss: 0.9902 - accuracy: 0.0000e+00\n",
      "2.943499373527973e+24\n"
     ]
    },
    {
     "ename": "ValueError",
     "evalue": "too many values to unpack (expected 2)",
     "output_type": "error",
     "traceback": [
      "\u001b[0;31m---------------------------------------------------------------------------\u001b[0m",
      "\u001b[0;31mValueError\u001b[0m                                Traceback (most recent call last)",
      "\u001b[0;32m<ipython-input-138-9b7835c195e3>\u001b[0m in \u001b[0;36m<module>\u001b[0;34m\u001b[0m\n\u001b[1;32m     28\u001b[0m         \u001b[0mprint\u001b[0m\u001b[0;34m(\u001b[0m\u001b[0merr\u001b[0m\u001b[0;34m)\u001b[0m\u001b[0;34m\u001b[0m\u001b[0;34m\u001b[0m\u001b[0m\n\u001b[1;32m     29\u001b[0m         \u001b[0mgen_loss\u001b[0m\u001b[0;34m.\u001b[0m\u001b[0mappend\u001b[0m\u001b[0;34m(\u001b[0m\u001b[0merr\u001b[0m\u001b[0;34m)\u001b[0m\u001b[0;34m\u001b[0m\u001b[0;34m\u001b[0m\u001b[0m\n\u001b[0;32m---> 30\u001b[0;31m         \u001b[0mview_mel\u001b[0m\u001b[0;34m(\u001b[0m\u001b[0mspectrogram_white_dataset\u001b[0m\u001b[0;34m,\u001b[0m \u001b[0mgan\u001b[0m\u001b[0;34m,\u001b[0m \u001b[0mp\u001b[0m\u001b[0;34m)\u001b[0m\u001b[0;34m\u001b[0m\u001b[0;34m\u001b[0m\u001b[0m\n\u001b[0m\u001b[1;32m     31\u001b[0m         \u001b[0ms\u001b[0m\u001b[0;34m+=\u001b[0m\u001b[0;36m1\u001b[0m\u001b[0;34m\u001b[0m\u001b[0;34m\u001b[0m\u001b[0m\n\u001b[1;32m     32\u001b[0m         \u001b[0mp\u001b[0m\u001b[0;34m+=\u001b[0m\u001b[0;36m1\u001b[0m\u001b[0;34m\u001b[0m\u001b[0;34m\u001b[0m\u001b[0m\n",
      "\u001b[0;32m<ipython-input-137-3425dc97f875>\u001b[0m in \u001b[0;36mview_mel\u001b[0;34m(dataset, gan, p)\u001b[0m\n\u001b[1;32m     21\u001b[0m     \u001b[0mS_dB\u001b[0m \u001b[0;34m=\u001b[0m \u001b[0mlibrosa\u001b[0m\u001b[0;34m.\u001b[0m\u001b[0mpower_to_db\u001b[0m\u001b[0;34m(\u001b[0m\u001b[0mb\u001b[0m\u001b[0;34m,\u001b[0m \u001b[0mref\u001b[0m\u001b[0;34m=\u001b[0m\u001b[0mnp\u001b[0m\u001b[0;34m.\u001b[0m\u001b[0mmax\u001b[0m\u001b[0;34m)\u001b[0m\u001b[0;34m\u001b[0m\u001b[0;34m\u001b[0m\u001b[0m\n\u001b[1;32m     22\u001b[0m     \u001b[0maxe\u001b[0m \u001b[0;34m=\u001b[0m \u001b[0mplt\u001b[0m\u001b[0;34m.\u001b[0m\u001b[0msubplot\u001b[0m\u001b[0;34m(\u001b[0m\u001b[0;36m1\u001b[0m\u001b[0;34m,\u001b[0m \u001b[0;36m1\u001b[0m\u001b[0;34m,\u001b[0m \u001b[0;36m1\u001b[0m\u001b[0;34m)\u001b[0m\u001b[0;34m\u001b[0m\u001b[0;34m\u001b[0m\u001b[0m\n\u001b[0;32m---> 23\u001b[0;31m     \u001b[0mlibrosa\u001b[0m\u001b[0;34m.\u001b[0m\u001b[0mdisplay\u001b[0m\u001b[0;34m.\u001b[0m\u001b[0mspecshow\u001b[0m\u001b[0;34m(\u001b[0m\u001b[0mS_dB\u001b[0m\u001b[0;34m,\u001b[0m \u001b[0msr\u001b[0m\u001b[0;34m=\u001b[0m\u001b[0msamplerate\u001b[0m\u001b[0;34m,\u001b[0m \u001b[0max\u001b[0m\u001b[0;34m=\u001b[0m\u001b[0maxe\u001b[0m\u001b[0;34m)\u001b[0m\u001b[0;34m\u001b[0m\u001b[0;34m\u001b[0m\u001b[0m\n\u001b[0m\u001b[1;32m     24\u001b[0m     \u001b[0mplt\u001b[0m\u001b[0;34m.\u001b[0m\u001b[0msavefig\u001b[0m\u001b[0;34m(\u001b[0m\u001b[0mstr\u001b[0m\u001b[0;34m(\u001b[0m\u001b[0mp\u001b[0m\u001b[0;34m)\u001b[0m\u001b[0;34m+\u001b[0m\u001b[0;34m\".png\"\u001b[0m\u001b[0;34m,\u001b[0m \u001b[0mformat\u001b[0m\u001b[0;34m=\u001b[0m\u001b[0;34m'png'\u001b[0m\u001b[0;34m)\u001b[0m\u001b[0;34m\u001b[0m\u001b[0;34m\u001b[0m\u001b[0m\n",
      "\u001b[0;32m/Library/Frameworks/Python.framework/Versions/3.8/lib/python3.8/site-packages/librosa/display.py\u001b[0m in \u001b[0;36mspecshow\u001b[0;34m(data, x_coords, y_coords, x_axis, y_axis, sr, hop_length, fmin, fmax, tuning, bins_per_octave, key, Sa, mela, thaat, auto_aspect, htk, ax, **kwargs)\u001b[0m\n\u001b[1;32m    979\u001b[0m \u001b[0;34m\u001b[0m\u001b[0m\n\u001b[1;32m    980\u001b[0m     \u001b[0maxes\u001b[0m \u001b[0;34m=\u001b[0m \u001b[0m__check_axes\u001b[0m\u001b[0;34m(\u001b[0m\u001b[0max\u001b[0m\u001b[0;34m)\u001b[0m\u001b[0;34m\u001b[0m\u001b[0;34m\u001b[0m\u001b[0m\n\u001b[0;32m--> 981\u001b[0;31m     \u001b[0mout\u001b[0m \u001b[0;34m=\u001b[0m \u001b[0maxes\u001b[0m\u001b[0;34m.\u001b[0m\u001b[0mpcolormesh\u001b[0m\u001b[0;34m(\u001b[0m\u001b[0mx_coords\u001b[0m\u001b[0;34m,\u001b[0m \u001b[0my_coords\u001b[0m\u001b[0;34m,\u001b[0m \u001b[0mdata\u001b[0m\u001b[0;34m,\u001b[0m \u001b[0;34m**\u001b[0m\u001b[0mkwargs\u001b[0m\u001b[0;34m)\u001b[0m\u001b[0;34m\u001b[0m\u001b[0;34m\u001b[0m\u001b[0m\n\u001b[0m\u001b[1;32m    982\u001b[0m     \u001b[0m__set_current_image\u001b[0m\u001b[0;34m(\u001b[0m\u001b[0max\u001b[0m\u001b[0;34m,\u001b[0m \u001b[0mout\u001b[0m\u001b[0;34m)\u001b[0m\u001b[0;34m\u001b[0m\u001b[0;34m\u001b[0m\u001b[0m\n\u001b[1;32m    983\u001b[0m \u001b[0;34m\u001b[0m\u001b[0m\n",
      "\u001b[0;32m/Library/Frameworks/Python.framework/Versions/3.8/lib/python3.8/site-packages/matplotlib/__init__.py\u001b[0m in \u001b[0;36minner\u001b[0;34m(ax, data, *args, **kwargs)\u001b[0m\n\u001b[1;32m   1445\u001b[0m     \u001b[0;32mdef\u001b[0m \u001b[0minner\u001b[0m\u001b[0;34m(\u001b[0m\u001b[0max\u001b[0m\u001b[0;34m,\u001b[0m \u001b[0;34m*\u001b[0m\u001b[0margs\u001b[0m\u001b[0;34m,\u001b[0m \u001b[0mdata\u001b[0m\u001b[0;34m=\u001b[0m\u001b[0;32mNone\u001b[0m\u001b[0;34m,\u001b[0m \u001b[0;34m**\u001b[0m\u001b[0mkwargs\u001b[0m\u001b[0;34m)\u001b[0m\u001b[0;34m:\u001b[0m\u001b[0;34m\u001b[0m\u001b[0;34m\u001b[0m\u001b[0m\n\u001b[1;32m   1446\u001b[0m         \u001b[0;32mif\u001b[0m \u001b[0mdata\u001b[0m \u001b[0;32mis\u001b[0m \u001b[0;32mNone\u001b[0m\u001b[0;34m:\u001b[0m\u001b[0;34m\u001b[0m\u001b[0;34m\u001b[0m\u001b[0m\n\u001b[0;32m-> 1447\u001b[0;31m             \u001b[0;32mreturn\u001b[0m \u001b[0mfunc\u001b[0m\u001b[0;34m(\u001b[0m\u001b[0max\u001b[0m\u001b[0;34m,\u001b[0m \u001b[0;34m*\u001b[0m\u001b[0mmap\u001b[0m\u001b[0;34m(\u001b[0m\u001b[0msanitize_sequence\u001b[0m\u001b[0;34m,\u001b[0m \u001b[0margs\u001b[0m\u001b[0;34m)\u001b[0m\u001b[0;34m,\u001b[0m \u001b[0;34m**\u001b[0m\u001b[0mkwargs\u001b[0m\u001b[0;34m)\u001b[0m\u001b[0;34m\u001b[0m\u001b[0;34m\u001b[0m\u001b[0m\n\u001b[0m\u001b[1;32m   1448\u001b[0m \u001b[0;34m\u001b[0m\u001b[0m\n\u001b[1;32m   1449\u001b[0m         \u001b[0mbound\u001b[0m \u001b[0;34m=\u001b[0m \u001b[0mnew_sig\u001b[0m\u001b[0;34m.\u001b[0m\u001b[0mbind\u001b[0m\u001b[0;34m(\u001b[0m\u001b[0max\u001b[0m\u001b[0;34m,\u001b[0m \u001b[0;34m*\u001b[0m\u001b[0margs\u001b[0m\u001b[0;34m,\u001b[0m \u001b[0;34m**\u001b[0m\u001b[0mkwargs\u001b[0m\u001b[0;34m)\u001b[0m\u001b[0;34m\u001b[0m\u001b[0;34m\u001b[0m\u001b[0m\n",
      "\u001b[0;32m/Library/Frameworks/Python.framework/Versions/3.8/lib/python3.8/site-packages/matplotlib/axes/_axes.py\u001b[0m in \u001b[0;36mpcolormesh\u001b[0;34m(self, alpha, norm, cmap, vmin, vmax, shading, antialiased, *args, **kwargs)\u001b[0m\n\u001b[1;32m   6090\u001b[0m         \u001b[0mkwargs\u001b[0m\u001b[0;34m.\u001b[0m\u001b[0msetdefault\u001b[0m\u001b[0;34m(\u001b[0m\u001b[0;34m'edgecolors'\u001b[0m\u001b[0;34m,\u001b[0m \u001b[0;34m'None'\u001b[0m\u001b[0;34m)\u001b[0m\u001b[0;34m\u001b[0m\u001b[0;34m\u001b[0m\u001b[0m\n\u001b[1;32m   6091\u001b[0m \u001b[0;34m\u001b[0m\u001b[0m\n\u001b[0;32m-> 6092\u001b[0;31m         X, Y, C, shading = self._pcolorargs('pcolormesh', *args,\n\u001b[0m\u001b[1;32m   6093\u001b[0m                                             shading=shading, kwargs=kwargs)\n\u001b[1;32m   6094\u001b[0m         \u001b[0mNy\u001b[0m\u001b[0;34m,\u001b[0m \u001b[0mNx\u001b[0m \u001b[0;34m=\u001b[0m \u001b[0mX\u001b[0m\u001b[0;34m.\u001b[0m\u001b[0mshape\u001b[0m\u001b[0;34m\u001b[0m\u001b[0;34m\u001b[0m\u001b[0m\n",
      "\u001b[0;32m/Library/Frameworks/Python.framework/Versions/3.8/lib/python3.8/site-packages/matplotlib/axes/_axes.py\u001b[0m in \u001b[0;36m_pcolorargs\u001b[0;34m(self, funcname, shading, *args, **kwargs)\u001b[0m\n\u001b[1;32m   5583\u001b[0m                 \u001b[0;32mif\u001b[0m \u001b[0misinstance\u001b[0m\u001b[0;34m(\u001b[0m\u001b[0mY\u001b[0m\u001b[0;34m,\u001b[0m \u001b[0mnp\u001b[0m\u001b[0;34m.\u001b[0m\u001b[0mma\u001b[0m\u001b[0;34m.\u001b[0m\u001b[0mcore\u001b[0m\u001b[0;34m.\u001b[0m\u001b[0mMaskedArray\u001b[0m\u001b[0;34m)\u001b[0m\u001b[0;34m:\u001b[0m\u001b[0;34m\u001b[0m\u001b[0;34m\u001b[0m\u001b[0m\n\u001b[1;32m   5584\u001b[0m                     \u001b[0mY\u001b[0m \u001b[0;34m=\u001b[0m \u001b[0mY\u001b[0m\u001b[0;34m.\u001b[0m\u001b[0mdata\u001b[0m\u001b[0;34m\u001b[0m\u001b[0;34m\u001b[0m\u001b[0m\n\u001b[0;32m-> 5585\u001b[0;31m             \u001b[0mnrows\u001b[0m\u001b[0;34m,\u001b[0m \u001b[0mncols\u001b[0m \u001b[0;34m=\u001b[0m \u001b[0mC\u001b[0m\u001b[0;34m.\u001b[0m\u001b[0mshape\u001b[0m\u001b[0;34m\u001b[0m\u001b[0;34m\u001b[0m\u001b[0m\n\u001b[0m\u001b[1;32m   5586\u001b[0m         \u001b[0;32melse\u001b[0m\u001b[0;34m:\u001b[0m\u001b[0;34m\u001b[0m\u001b[0;34m\u001b[0m\u001b[0m\n\u001b[1;32m   5587\u001b[0m             raise TypeError(f'{funcname}() takes 1 or 3 positional arguments '\n",
      "\u001b[0;31mValueError\u001b[0m: too many values to unpack (expected 2)"
     ]
    },
    {
     "data": {
      "image/png": "[encoded data removed]",
      "text/plain": [
       "<Figure size 432x288 with 1 Axes>"
      ]
     },
     "metadata": {
      "needs_background": "light"
     },
     "output_type": "display_data"
    }
   ],
   "source": [
    "disc_acc = []\n",
    "gen_loss = [0]\n",
    "gan_acc = []\n",
    "for e in range(10):\n",
    "    g_accuracy = 0\n",
    "    d_accuracy = 0\n",
    "    print(\"Step\", e)\n",
    "    if d_accuracy < 1:\n",
    "        i, o = get_generator_outputs(spectrogram_white_dataset, discriminator_train_size, gan.g, nperseg, spectrogram_clean_dataset)\n",
    "    gan.block_generator()\n",
    "    print(\"Training the discriminator\")\n",
    "    s = 0\n",
    "    err = evaluate_generator(gan.g, spectrogram_white_dataset, spectrogram_clean_dataset, 100)\n",
    "    while d_accuracy < 0.9:\n",
    "        d_accuracy = train_on_batch(gan.d, i, o, verbose=True)\n",
    "        disc_acc.append(d_accuracy)\n",
    "        gan_acc.append(0)\n",
    "        s+=1\n",
    "        gen_loss.append(err)\n",
    "    gan.block_discriminator()\n",
    "    print(\"Training the generator\")\n",
    "    s = 0\n",
    "    while g_accuracy < 0.95:\n",
    "        g_accuracy = train_on_batch(gan.combined_network, spectrogram_white_dataset[:generator_train_size], np.ones(generator_train_size), batch_size=4, verbose=True)\n",
    "        gan_acc.append(g_accuracy)\n",
    "        disc_acc.append(0)\n",
    "        err = evaluate_generator(gan.g, spectrogram_white_dataset, spectrogram_clean_dataset, 100)\n",
    "        print(err)\n",
    "        gen_loss.append(err)\n",
    "        view_mel(spectrogram_white_dataset, gan, p)\n",
    "        s+=1\n",
    "        p+=1\n",
    "    #print(evaluate_generator(gan.g, white_dataset, clean_dataset))\n",
    "plt.plot(disc_acc)\n",
    "plt.plot(gan_acc)\n",
    "plt.show()\n",
    "plt.plot(gen_loss[1:])\n",
    "plt.show()"
   ]
  },
  {
   "cell_type": "markdown",
   "metadata": {},
   "source": [
    "gan.combined_network.save('save3/gan_with_add')"
   ]
  },
  {
   "cell_type": "code",
   "execution_count": 84,
   "metadata": {},
   "outputs": [
    {
     "data": {
      "text/html": [
       "\n",
       "                <audio  controls=\"controls\" >\n",
       "                    <source src=\"data:audio/wav;base64,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\" type=\"audio/wav\" />\n",
       "                    Your browser does not support the audio element.\n",
       "                </audio>\n",
       "              "
      ],
      "text/plain": [
       "<IPython.lib.display.Audio object>"
      ]
     },
     "execution_count": 84,
     "metadata": {},
     "output_type": "execute_result"
    }
   ],
   "source": [
    "hear_outputs(spectrogram_clean_dataset, gan, p)"
   ]
  },
  {
   "cell_type": "code",
   "execution_count": null,
   "metadata": {},
   "outputs": [],
   "source": []
  }
 ],
 "metadata": {
  "kernelspec": {
   "display_name": "Python 3",
   "language": "python",
   "name": "python3"
  },
  "language_info": {
   "codemirror_mode": {
    "name": "ipython",
    "version": 3
   },
   "file_extension": ".py",
   "mimetype": "text/x-python",
   "name": "python",
   "nbconvert_exporter": "python",
   "pygments_lexer": "ipython3",
   "version": "3.8.0"
  }
 },
 "nbformat": 4,
 "nbformat_minor": 4
}
