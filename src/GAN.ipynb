{
 "cells": [
  {
   "cell_type": "code",
   "execution_count": 1,
   "metadata": {},
   "outputs": [
    {
     "name": "stdout",
     "output_type": "stream",
     "text": [
      "(10659, 1024)\n",
      "(10659, 1024)\n"
     ]
    }
   ],
   "source": [
    "import tensorflow as tf\n",
    "import numpy as np\n",
    "from scipy.io import wavfile\n",
    "from scipy.signal import spectrogram, stft, istft\n",
    "import matplotlib.pyplot as plt\n",
    "import librosa\n",
    "import librosa.display\n",
    "from misceallaneous import getWavFileAsNpArray, displaySpectrogram\n",
    "from IPython.display import Audio\n",
    "\n",
    "samplerate = 12000\n",
    "nperseg = 1024\n",
    "\n",
    "clean = getWavFileAsNpArray(\"../dataset_2/clean/p1.wav\")\n",
    "white = getWavFileAsNpArray(\"../dataset_2/white/p1.wav\")\n",
    "clean = np.array(clean, dtype=\"int32\")\n",
    "white = np.array(white, dtype=\"int32\")\n",
    "\n",
    "clean_split = []\n",
    "white_split = []\n",
    "\n",
    "samples_length = nperseg\n",
    "\n",
    "for i in range(0, clean.shape[0]-samples_length, samples_length):\n",
    "    clean_split.append(clean[i:i+samples_length])\n",
    "    white_split.append(white[i:i+samples_length])\n",
    "clean_split = np.array(clean_split)\n",
    "white_split = np.array(white_split)\n",
    "\n",
    "print(clean_split.shape)\n",
    "print(white_split.shape)"
   ]
  },
  {
   "cell_type": "code",
   "execution_count": 21,
   "metadata": {},
   "outputs": [
    {
     "data": {
      "image/png": "[encoded data removed]",
      "text/plain": [
       "<Figure size 432x288 with 1 Axes>"
      ]
     },
     "metadata": {},
     "output_type": "display_data"
    }
   ],
   "source": [
    "input_test0 = np.reshape(clean_split[0, :], (1, clean_split.shape[1]))\n",
    "input_test1 = np.reshape(clean_split[1, :], (1, clean_split.shape[1]))\n",
    "input_test2 = np.reshape(clean_split[2, :], (1, clean_split.shape[1]))\n",
    "b1 = np.reshape(input_test0.T, (clean_split.shape[1],))\n",
    "b2 = np.reshape(input_test1.T, (clean_split.shape[1],))\n",
    "b3 = np.reshape(input_test2.T, (clean_split.shape[1],))\n",
    "b = np.concatenate((b1, b2, b3))\n",
    "\n",
    "c, t, Vxx_input_test = stft(b, fs=samplerate, nperseg=nperseg)\n",
    "displaySpectrogram(Vxx_input_test)\n",
    "plt.show()"
   ]
  },
  {
   "cell_type": "code",
   "execution_count": 22,
   "metadata": {},
   "outputs": [],
   "source": [
    "def process_stft(inputs):\n",
    "    return tf.math.real(tf.signal.stft(inputs, frame_length=nperseg, frame_step=nperseg))"
   ]
  },
  {
   "cell_type": "code",
   "execution_count": 23,
   "metadata": {},
   "outputs": [],
   "source": [
    "def get_generator_outputs(white_split, train_size, g, nperseg, clean, clean_labels):\n",
    "    rng = np.random.default_rng()\n",
    "    g_outputs = []\n",
    "    print(\"Predicting Generator Outputs\")\n",
    "    batch = rng.choice(white_split, train_size)\n",
    "    for i in range(train_size):\n",
    "        t = np.reshape(batch[i, :], (1, batch.shape[1]))\n",
    "        m = g.predict(t)\n",
    "        o = np.reshape(np.array(m), nperseg)\n",
    "        g_outputs.append(o)\n",
    "    g_outputs = np.array(g_outputs)\n",
    "    labels = -1*np.ones((train_size, 1))\n",
    "    input_data = np.concatenate((g_outputs, clean[:train_size,]))\n",
    "    output_data = np.concatenate((labels, clean_labels[:train_size,]))\n",
    "    return input_data, output_data\n",
    "\n",
    "def show_prediction(input_test0, input_test1, input_test2, white_split, samplerate, nperseg):\n",
    "    output_test0 = g.predict(input_test0)\n",
    "    output_test1 = g.predict(input_test1)\n",
    "    output_test2 = g.predict(input_test2)\n",
    "    o1 = np.reshape(output_test0.T, (white_split.shape[1],1))\n",
    "    o2 = np.reshape(output_test1.T, (white_split.shape[1],1))\n",
    "    o3 = np.reshape(output_test2.T, (white_split.shape[1],1))\n",
    "    o = np.concatenate((o1, o2, o3))\n",
    "    c, t, Vxx_test = stft(o, fs=samplerate, nperseg=nperseg)\n",
    "    displaySpectrogram(Vxx_test)\n",
    "    plt.show()"
   ]
  },
  {
   "cell_type": "code",
   "execution_count": 51,
   "metadata": {
    "scrolled": false
   },
   "outputs": [
    {
     "name": "stdout",
     "output_type": "stream",
     "text": [
      "Model: \"skip_autoencoder\"\n",
      "_________________________________________________________________\n",
      "Layer (type)                 Output Shape              Param #   \n",
      "=================================================================\n",
      "input_33 (InputLayer)        [(None, 1024)]            0         \n",
      "_________________________________________________________________\n",
      "reshape_22 (Reshape)         (None, 1024, 1)           0         \n",
      "_________________________________________________________________\n",
      "conv1d_16 (Conv1D)           (None, 1024, 4)           20        \n",
      "_________________________________________________________________\n",
      "flatten_1 (Flatten)          (None, 4096)              0         \n",
      "_________________________________________________________________\n",
      "dense_8 (Dense)              (None, 1024)              4195328   \n",
      "_________________________________________________________________\n",
      "dense_9 (Dense)              (None, 1024)              1049600   \n",
      "=================================================================\n",
      "Total params: 5,244,948\n",
      "Trainable params: 5,244,948\n",
      "Non-trainable params: 0\n",
      "_________________________________________________________________\n",
      "Model: \"discriminator\"\n",
      "_________________________________________________________________\n",
      "Layer (type)                 Output Shape              Param #   \n",
      "=================================================================\n",
      "input_34 (InputLayer)        [(None, 1024)]            0         \n",
      "_________________________________________________________________\n",
      "lambda (Lambda)              (None, 1, 513)            0         \n",
      "_________________________________________________________________\n",
      "dense_10 (Dense)             (None, 1, 512)            263168    \n",
      "_________________________________________________________________\n",
      "dense_11 (Dense)             (None, 1, 256)            131328    \n",
      "_________________________________________________________________\n",
      "dense_12 (Dense)             (None, 1, 128)            32896     \n",
      "_________________________________________________________________\n",
      "dense_13 (Dense)             (None, 1, 1)              129       \n",
      "=================================================================\n",
      "Total params: 427,521\n",
      "Trainable params: 427,521\n",
      "Non-trainable params: 0\n",
      "_________________________________________________________________\n"
     ]
    }
   ],
   "source": [
    "def skip_generator(size):\n",
    "    inputs = tf.keras.Input(shape=(size,))\n",
    "    x0 = tf.keras.layers.Reshape((size, -1))(inputs)\n",
    "    #x0 = tf.keras.layers.Dropout(0.1)(inputs)\n",
    "    x1 = tf.keras.layers.Conv1D(4, kernel_size = (4,),  activation=\"tanh\", padding=\"same\")(x0)\n",
    "    x2 = tf.keras.layers.Flatten()(x1)\n",
    "    x3 = tf.keras.layers.Dense(size, activation=\"tanh\")(x2)\n",
    "    outputs = tf.keras.layers.Dense(size)(x3)\n",
    "    model = tf.keras.Model(inputs=inputs, outputs=outputs, name=\"skip_autoencoder\")\n",
    "    model.summary()\n",
    "    model.compile(optimizer='adam', loss='mse', metrics=['accuracy'])\n",
    "    return model\n",
    "\n",
    "def stft_discriminator(input_shape):\n",
    "    inputs = tf.keras.Input(shape=input_shape)\n",
    "    x0 = tf.keras.layers.Lambda(process_stft)(inputs)\n",
    "    x1 = tf.keras.layers.Dense(512, activation=\"tanh\")(x0)\n",
    "    x2 = tf.keras.layers.Dense(256, activation=\"tanh\")(x1)\n",
    "    x3 = tf.keras.layers.Dense(128, activation=\"tanh\")(x2)\n",
    "    outputs = tf.keras.layers.Dense(1, activation=\"sigmoid\")(x3)\n",
    "    model = tf.keras.Model(inputs=inputs, outputs=outputs, name=\"discriminator\")\n",
    "    model.summary()\n",
    "    model.compile(optimizer= 'adam', loss='mse', metrics=['accuracy'])\n",
    "    return model\n",
    "\n",
    "\n",
    "def GAN(size, g, d):\n",
    "    z = tf.keras.layers.Input(shape=(size,))\n",
    "    image = g(z)\n",
    "    valid = d(image)\n",
    "    d.trainable = False\n",
    "    combined_network = tf.keras.Model(z, valid)\n",
    "    combined_network.compile(optimizer='adam', loss='mse', metrics=['accuracy'])\n",
    "    return combined_network\n",
    "\n",
    "g = skip_generator(clean_split.shape[1])\n",
    "d = stft_discriminator(clean_split.shape[1])"
   ]
  },
  {
   "cell_type": "code",
   "execution_count": 52,
   "metadata": {},
   "outputs": [],
   "source": [
    "def train_discriminator_on_batch(g, d, white, clean, clean_labels, train_size=5000, batch_num=1, max_accuracy=0.4, max_iterations=50):\n",
    "    it = 0\n",
    "    for _ in range(batch_num):\n",
    "        previous_accuracy = 0\n",
    "        input_data, output_data = get_generator_outputs(white_split, train_size, g, nperseg, clean, clean_labels)\n",
    "        history = d.fit(input_data, output_data, batch_size=16)\n",
    "        while previous_accuracy < max_accuracy and it < max_iterations:\n",
    "            it += 1\n",
    "            if abs(np.mean(history.history['accuracy']) - previous_accuracy) < 0.001:\n",
    "                input_data, output_data = get_generator_outputs(white_split, train_size, g, nperseg, clean, clean_labels)\n",
    "            previous_accuracy = np.mean(history.history['accuracy'])\n",
    "            history = d.fit(input_data, output_data, batch_size=16)\n",
    "    return np.mean(history.history['accuracy']), d"
   ]
  },
  {
   "cell_type": "code",
   "execution_count": 57,
   "metadata": {},
   "outputs": [],
   "source": [
    "clean_labels = np.ones((clean_split.shape[0], ))\n",
    "white_labels = np.zeros((white_split.shape[0], ))"
   ]
  },
  {
   "cell_type": "code",
   "execution_count": 58,
   "metadata": {
    "scrolled": false
   },
   "outputs": [
    {
     "name": "stdout",
     "output_type": "stream",
     "text": [
      "Pre-training the generator\n",
      "667/667 [==============================] - 16s 24ms/step - loss: 26114586.0000 - accuracy: 0.0065\n"
     ]
    }
   ],
   "source": [
    "print(\"Pre-training the generator\")\n",
    "g_accuracy = g.fit(white_split, clean_split, epochs=1, batch_size=16).history['accuracy'][-1]"
   ]
  },
  {
   "cell_type": "code",
   "execution_count": 59,
   "metadata": {
    "scrolled": false
   },
   "outputs": [
    {
     "name": "stdout",
     "output_type": "stream",
     "text": [
      "Pre-training the discriminator\n",
      "1333/1333 [==============================] - 5s 3ms/step - loss: 0.2520 - accuracy: 0.5005\n"
     ]
    }
   ],
   "source": [
    "print(\"Pre-training the discriminator\")\n",
    "d_accuracy = d.fit(np.concatenate((white_split, clean_split)), np.concatenate((white_labels, clean_labels)), epochs=1, batch_size=16).history['accuracy'][-1]"
   ]
  },
  {
   "cell_type": "code",
   "execution_count": 61,
   "metadata": {
    "scrolled": false
   },
   "outputs": [
    {
     "name": "stdout",
     "output_type": "stream",
     "text": [
      "Generator accuracy: 0.006473402958363295\n",
      "Discriminator accuracy: 0.5004690885543823\n",
      "Training the generator\n",
      "667/667 [==============================] - 20s 29ms/step - loss: 0.2494 - accuracy: 0.5394\n",
      "Generator accuracy: 0.006473402958363295\n",
      "Discriminator accuracy: 0.5004690885543823\n",
      "Training the discriminator\n",
      "Predicting Generator Outputs\n"
     ]
    },
    {
     "ename": "ValueError",
     "evalue": "all the input arrays must have same number of dimensions, but the array at index 0 has 2 dimension(s) and the array at index 1 has 1 dimension(s)",
     "output_type": "error",
     "traceback": [
      "\u001b[0;31m---------------------------------------------------------------------------\u001b[0m",
      "\u001b[0;31mValueError\u001b[0m                                Traceback (most recent call last)",
      "\u001b[0;32m<ipython-input-61-202e278acfff>\u001b[0m in \u001b[0;36m<module>\u001b[0;34m\u001b[0m\n\u001b[1;32m     20\u001b[0m     \u001b[0mprint\u001b[0m\u001b[0;34m(\u001b[0m\u001b[0;34m\"Training the discriminator\"\u001b[0m\u001b[0;34m)\u001b[0m\u001b[0;34m\u001b[0m\u001b[0;34m\u001b[0m\u001b[0m\n\u001b[1;32m     21\u001b[0m     \u001b[0;31m#history = d.fit(np.concatenate((white_split, clean_split)), np.concatenate((white_labels, clean_labels)), epochs=3)\u001b[0m\u001b[0;34m\u001b[0m\u001b[0;34m\u001b[0m\u001b[0;34m\u001b[0m\u001b[0m\n\u001b[0;32m---> 22\u001b[0;31m     \u001b[0md_accuracy\u001b[0m\u001b[0;34m,\u001b[0m \u001b[0md\u001b[0m \u001b[0;34m=\u001b[0m \u001b[0mtrain_discriminator_on_batch\u001b[0m\u001b[0;34m(\u001b[0m\u001b[0mg\u001b[0m\u001b[0;34m,\u001b[0m \u001b[0md\u001b[0m\u001b[0;34m,\u001b[0m \u001b[0mwhite_split\u001b[0m\u001b[0;34m,\u001b[0m \u001b[0mclean_split\u001b[0m\u001b[0;34m,\u001b[0m \u001b[0mclean_labels\u001b[0m\u001b[0;34m,\u001b[0m \u001b[0mmax_accuracy\u001b[0m\u001b[0;34m=\u001b[0m\u001b[0mmax\u001b[0m\u001b[0;34m(\u001b[0m\u001b[0mg_accuracy\u001b[0m\u001b[0;34m,\u001b[0m \u001b[0md_accuracy\u001b[0m\u001b[0;34m)\u001b[0m\u001b[0;34m)\u001b[0m\u001b[0;34m\u001b[0m\u001b[0;34m\u001b[0m\u001b[0m\n\u001b[0m",
      "\u001b[0;32m<ipython-input-52-727b1676b924>\u001b[0m in \u001b[0;36mtrain_discriminator_on_batch\u001b[0;34m(g, d, white, clean, clean_labels, train_size, batch_num, max_accuracy, max_iterations)\u001b[0m\n\u001b[1;32m      3\u001b[0m     \u001b[0;32mfor\u001b[0m \u001b[0m_\u001b[0m \u001b[0;32min\u001b[0m \u001b[0mrange\u001b[0m\u001b[0;34m(\u001b[0m\u001b[0mbatch_num\u001b[0m\u001b[0;34m)\u001b[0m\u001b[0;34m:\u001b[0m\u001b[0;34m\u001b[0m\u001b[0;34m\u001b[0m\u001b[0m\n\u001b[1;32m      4\u001b[0m         \u001b[0mprevious_accuracy\u001b[0m \u001b[0;34m=\u001b[0m \u001b[0;36m0\u001b[0m\u001b[0;34m\u001b[0m\u001b[0;34m\u001b[0m\u001b[0m\n\u001b[0;32m----> 5\u001b[0;31m         \u001b[0minput_data\u001b[0m\u001b[0;34m,\u001b[0m \u001b[0moutput_data\u001b[0m \u001b[0;34m=\u001b[0m \u001b[0mget_generator_outputs\u001b[0m\u001b[0;34m(\u001b[0m\u001b[0mwhite_split\u001b[0m\u001b[0;34m,\u001b[0m \u001b[0mtrain_size\u001b[0m\u001b[0;34m,\u001b[0m \u001b[0mg\u001b[0m\u001b[0;34m,\u001b[0m \u001b[0mnperseg\u001b[0m\u001b[0;34m,\u001b[0m \u001b[0mclean\u001b[0m\u001b[0;34m,\u001b[0m \u001b[0mclean_labels\u001b[0m\u001b[0;34m)\u001b[0m\u001b[0;34m\u001b[0m\u001b[0;34m\u001b[0m\u001b[0m\n\u001b[0m\u001b[1;32m      6\u001b[0m         \u001b[0mhistory\u001b[0m \u001b[0;34m=\u001b[0m \u001b[0md\u001b[0m\u001b[0;34m.\u001b[0m\u001b[0mfit\u001b[0m\u001b[0;34m(\u001b[0m\u001b[0minput_data\u001b[0m\u001b[0;34m,\u001b[0m \u001b[0moutput_data\u001b[0m\u001b[0;34m,\u001b[0m \u001b[0mbatch_size\u001b[0m\u001b[0;34m=\u001b[0m\u001b[0;36m16\u001b[0m\u001b[0;34m)\u001b[0m\u001b[0;34m\u001b[0m\u001b[0;34m\u001b[0m\u001b[0m\n\u001b[1;32m      7\u001b[0m         \u001b[0;32mwhile\u001b[0m \u001b[0mprevious_accuracy\u001b[0m \u001b[0;34m<\u001b[0m \u001b[0mmax_accuracy\u001b[0m \u001b[0;32mand\u001b[0m \u001b[0mit\u001b[0m \u001b[0;34m<\u001b[0m \u001b[0mmax_iterations\u001b[0m\u001b[0;34m:\u001b[0m\u001b[0;34m\u001b[0m\u001b[0;34m\u001b[0m\u001b[0m\n",
      "\u001b[0;32m<ipython-input-23-50bb5f786cb1>\u001b[0m in \u001b[0;36mget_generator_outputs\u001b[0;34m(white_split, train_size, g, nperseg, clean, clean_labels)\u001b[0m\n\u001b[1;32m     12\u001b[0m     \u001b[0mlabels\u001b[0m \u001b[0;34m=\u001b[0m \u001b[0;34m-\u001b[0m\u001b[0;36m1\u001b[0m\u001b[0;34m*\u001b[0m\u001b[0mnp\u001b[0m\u001b[0;34m.\u001b[0m\u001b[0mones\u001b[0m\u001b[0;34m(\u001b[0m\u001b[0;34m(\u001b[0m\u001b[0mtrain_size\u001b[0m\u001b[0;34m,\u001b[0m \u001b[0;36m1\u001b[0m\u001b[0;34m)\u001b[0m\u001b[0;34m)\u001b[0m\u001b[0;34m\u001b[0m\u001b[0;34m\u001b[0m\u001b[0m\n\u001b[1;32m     13\u001b[0m     \u001b[0minput_data\u001b[0m \u001b[0;34m=\u001b[0m \u001b[0mnp\u001b[0m\u001b[0;34m.\u001b[0m\u001b[0mconcatenate\u001b[0m\u001b[0;34m(\u001b[0m\u001b[0;34m(\u001b[0m\u001b[0mg_outputs\u001b[0m\u001b[0;34m,\u001b[0m \u001b[0mclean\u001b[0m\u001b[0;34m[\u001b[0m\u001b[0;34m:\u001b[0m\u001b[0mtrain_size\u001b[0m\u001b[0;34m,\u001b[0m\u001b[0;34m]\u001b[0m\u001b[0;34m)\u001b[0m\u001b[0;34m)\u001b[0m\u001b[0;34m\u001b[0m\u001b[0;34m\u001b[0m\u001b[0m\n\u001b[0;32m---> 14\u001b[0;31m     \u001b[0moutput_data\u001b[0m \u001b[0;34m=\u001b[0m \u001b[0mnp\u001b[0m\u001b[0;34m.\u001b[0m\u001b[0mconcatenate\u001b[0m\u001b[0;34m(\u001b[0m\u001b[0;34m(\u001b[0m\u001b[0mlabels\u001b[0m\u001b[0;34m,\u001b[0m \u001b[0mclean_labels\u001b[0m\u001b[0;34m[\u001b[0m\u001b[0;34m:\u001b[0m\u001b[0mtrain_size\u001b[0m\u001b[0;34m,\u001b[0m\u001b[0;34m]\u001b[0m\u001b[0;34m)\u001b[0m\u001b[0;34m)\u001b[0m\u001b[0;34m\u001b[0m\u001b[0;34m\u001b[0m\u001b[0m\n\u001b[0m\u001b[1;32m     15\u001b[0m     \u001b[0;32mreturn\u001b[0m \u001b[0minput_data\u001b[0m\u001b[0;34m,\u001b[0m \u001b[0moutput_data\u001b[0m\u001b[0;34m\u001b[0m\u001b[0;34m\u001b[0m\u001b[0m\n\u001b[1;32m     16\u001b[0m \u001b[0;34m\u001b[0m\u001b[0m\n",
      "\u001b[0;32m<__array_function__ internals>\u001b[0m in \u001b[0;36mconcatenate\u001b[0;34m(*args, **kwargs)\u001b[0m\n",
      "\u001b[0;31mValueError\u001b[0m: all the input arrays must have same number of dimensions, but the array at index 0 has 2 dimension(s) and the array at index 1 has 1 dimension(s)"
     ]
    }
   ],
   "source": [
    "for i in range(3):\n",
    "    print(\"Generator accuracy:\", g_accuracy)\n",
    "    print(\"Discriminator accuracy:\", d_accuracy)\n",
    "    previous_accuracy  = 0\n",
    "    gan = GAN(white_split.shape[1], g, d)\n",
    "    print(\"Training the generator\")\n",
    "    history = gan.fit(white_split, clean_labels, epochs=1, batch_size=16)\n",
    "    new_accuracy = np.mean(history.history['accuracy'])\n",
    "    it = 0\n",
    "    while new_accuracy < max(g_accuracy, d_accuracy) and it < 50:\n",
    "        it += 1\n",
    "        previous_accuracy = np.mean(history.history['accuracy'])\n",
    "        history = gan.fit(white_split, clean_labels, batch_size=16)\n",
    "        new_accuracy = np.mean(history.history['accuracy'])\n",
    "        if new_accuracy > d_accuracy:\n",
    "            g_accuracy = new_accuracy\n",
    "    #show_prediction(input_test0, input_test1, input_test2, white_split, samplerate, nperseg)\n",
    "    print(\"Generator accuracy:\", g_accuracy)\n",
    "    print(\"Discriminator accuracy:\", d_accuracy)\n",
    "    print(\"Training the discriminator\")\n",
    "    #history = d.fit(np.concatenate((white_split, clean_split)), np.concatenate((white_labels, clean_labels)), epochs=3)\n",
    "    d_accuracy, d = train_discriminator_on_batch(g, d, white_split, clean_split, clean_labels, max_accuracy=max(g_accuracy, d_accuracy))"
   ]
  },
  {
   "cell_type": "code",
   "execution_count": null,
   "metadata": {},
   "outputs": [],
   "source": [
    "i = [np.reshape(white_split[k, :], (1, white_split.shape[1])) for k in range(25)]\n",
    "o = [g.predict(i[k]) for k in range(len(i))]\n",
    "p = [np.reshape(i[k].T, (white_split.shape[1],)) for k in range(len(o))]\n",
    "q = [np.reshape(o[k].T, (white_split.shape[1],)) for k in range(len(o))]\n",
    "\n",
    "\n",
    "a = np.concatenate(p)\n",
    "b = np.concatenate(q)\n",
    "Audio(a, rate=samplerate)"
   ]
  },
  {
   "cell_type": "code",
   "execution_count": null,
   "metadata": {},
   "outputs": [],
   "source": [
    "Audio(b, rate=samplerate)"
   ]
  }
 ],
 "metadata": {
  "kernelspec": {
   "display_name": "Python 3",
   "language": "python",
   "name": "python3"
  },
  "language_info": {
   "codemirror_mode": {
    "name": "ipython",
    "version": 3
   },
   "file_extension": ".py",
   "mimetype": "text/x-python",
   "name": "python",
   "nbconvert_exporter": "python",
   "pygments_lexer": "ipython3",
   "version": "3.8.0"
  }
 },
 "nbformat": 4,
 "nbformat_minor": 4
}
