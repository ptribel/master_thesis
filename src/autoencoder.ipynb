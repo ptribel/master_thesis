{
 "cells": [
  {
   "cell_type": "code",
   "execution_count": 1,
   "metadata": {},
   "outputs": [],
   "source": [
    "import tensorflow as tf\n",
    "import numpy as np"
   ]
  },
  {
   "cell_type": "code",
   "execution_count": 2,
   "metadata": {
    "scrolled": false
   },
   "outputs": [],
   "source": [
    "clean = tf.data.experimental.load(\"../tensors_dataset/clean\", tf.TensorSpec(shape=(88200, 1), dtype=tf.float32)).take(1000)\n",
    "white = tf.data.experimental.load(\"../tensors_dataset/white\", tf.TensorSpec(shape=(88200, 1), dtype=tf.float32)).take(1000)"
   ]
  },
  {
   "cell_type": "code",
   "execution_count": 3,
   "metadata": {},
   "outputs": [
    {
     "name": "stdout",
     "output_type": "stream",
     "text": [
      "Frame: 8820\n"
     ]
    }
   ],
   "source": [
    "frame = int(88200/10)\n",
    "print(\"Frame:\", frame)"
   ]
  },
  {
   "cell_type": "code",
   "execution_count": 4,
   "metadata": {},
   "outputs": [],
   "source": [
    "c = []\n",
    "for i in clean:\n",
    "    for step in range(0, i.shape[0]-frame, frame):\n",
    "        c.append(np.array(i[step:step+frame]))\n",
    "w = []\n",
    "for i in white:\n",
    "    for step in range(0, i.shape[0]-frame, frame):\n",
    "        w.append(np.array(i[step:step+frame]))\n",
    "c = np.array(c)\n",
    "w = np.array(w)"
   ]
  },
  {
   "cell_type": "code",
   "execution_count": 5,
   "metadata": {},
   "outputs": [
    {
     "name": "stdout",
     "output_type": "stream",
     "text": [
      "(9000, 8820, 1) (9000, 8820, 1)\n"
     ]
    }
   ],
   "source": [
    "print(c.shape, w.shape)"
   ]
  },
  {
   "cell_type": "code",
   "execution_count": 6,
   "metadata": {},
   "outputs": [
    {
     "name": "stdout",
     "output_type": "stream",
     "text": [
      "Model: \"sequential\"\n",
      "_________________________________________________________________\n",
      "Layer (type)                 Output Shape              Param #   \n",
      "=================================================================\n",
      "dense (Dense)                (None, 8820, 8820)        17640     \n",
      "_________________________________________________________________\n",
      "dense_1 (Dense)              (None, 8820, 2205)        19450305  \n",
      "_________________________________________________________________\n",
      "dense_2 (Dense)              (None, 8820, 1102)        2431012   \n",
      "_________________________________________________________________\n",
      "dense_3 (Dense)              (None, 8820, 2205)        2432115   \n",
      "_________________________________________________________________\n",
      "dense_4 (Dense)              (None, 8820, 8820)        19456920  \n",
      "=================================================================\n",
      "Total params: 43,787,992\n",
      "Trainable params: 43,787,992\n",
      "Non-trainable params: 0\n",
      "_________________________________________________________________\n"
     ]
    }
   ],
   "source": [
    "model = tf.keras.Sequential()\n",
    "model.add(tf.keras.layers.Dense(frame, activation='relu', input_shape=(frame, 1)))\n",
    "model.add(tf.keras.layers.Dense(frame/4, activation='relu'))\n",
    "model.add(tf.keras.layers.Dense(frame/8, activation='relu'))\n",
    "model.add(tf.keras.layers.Dense(frame/4, activation='relu'))\n",
    "model.add(tf.keras.layers.Dense(frame, activation='tanh'))\n",
    "model.summary()"
   ]
  },
  {
   "cell_type": "code",
   "execution_count": 7,
   "metadata": {},
   "outputs": [],
   "source": [
    "model.compile(optimizer='adam',\n",
    "              loss='mse',\n",
    "              metrics=['accuracy'])"
   ]
  },
  {
   "cell_type": "code",
   "execution_count": null,
   "metadata": {
    "scrolled": false
   },
   "outputs": [
    {
     "name": "stdout",
     "output_type": "stream",
     "text": [
      "Epoch 1/10\n"
     ]
    }
   ],
   "source": [
    "model.fit(w, c, epochs=10)"
   ]
  }
 ],
 "metadata": {
  "kernelspec": {
   "display_name": "Python 3",
   "language": "python",
   "name": "python3"
  },
  "language_info": {
   "codemirror_mode": {
    "name": "ipython",
    "version": 3
   },
   "file_extension": ".py",
   "mimetype": "text/x-python",
   "name": "python",
   "nbconvert_exporter": "python",
   "pygments_lexer": "ipython3",
   "version": "3.8.0"
  },
  "vscode": {
   "interpreter": {
    "hash": "082e9a3bcad0a290d0001e938aa60b99250c6c2ef33a923c00b70f9826caf4b7"
   }
  }
 },
 "nbformat": 4,
 "nbformat_minor": 2
}
